{
 "cells": [
  {
   "cell_type": "markdown",
   "id": "ab802c1e-43c6-4e97-9927-73eac6a14bef",
   "metadata": {},
   "source": [
    "Problem 1"
   ]
  },
  {
   "cell_type": "code",
   "execution_count": null,
   "id": "77339c87-0cd9-42cc-b2ff-041f5b01a674",
   "metadata": {},
   "outputs": [],
   "source": [
    "if __name__ == '__main__':\n",
    "    lst = list()\n",
    "    for _ in range(int(input())):\n",
    "        name = input()\n",
    "        score = float(input())\n",
    "        lst.append([name,score])\n",
    "    lst.sort(key = lambda x : x[0])\n",
    "    lst.sort(key = lambda x : x[1])\n",
    "    mini = lst[0][1]\n",
    "    ls = list()\n",
    "    for i in lst:\n",
    "        if i[1] == mini:\n",
    "            continue\n",
    "        ls.append(i)\n",
    "    mini = ls[0][1]\n",
    "    for i in ls:\n",
    "        if i[1] == mini:\n",
    "            print(i[0])"
   ]
  },
  {
   "cell_type": "markdown",
   "id": "5d65a359-a973-4f25-a528-67bfda07749f",
   "metadata": {},
   "source": [
    "Problem 2"
   ]
  },
  {
   "cell_type": "code",
   "execution_count": null,
   "id": "bd7a089d-db04-4d04-91f9-9f1c7e288100",
   "metadata": {},
   "outputs": [],
   "source": [
    "if __name__ == '__main__':\n",
    "    n = int(input())\n",
    "    arr = map(int, input().split())\n",
    "    arr = sorted(arr)\n",
    "\n",
    "    ans = arr[0]\n",
    "    for i in range(len(arr)):\n",
    "        if arr[i] == arr[-1]:\n",
    "            ans = arr[i-1]\n",
    "            break\n",
    "    print(ans)\n",
    "        "
   ]
  },
  {
   "cell_type": "markdown",
   "id": "4ad0d61e-95f4-4a8c-8306-1ab93cc2e9e7",
   "metadata": {},
   "source": [
    "problem 3"
   ]
  },
  {
   "cell_type": "code",
   "execution_count": null,
   "id": "afd6f187-1985-47bd-98d3-fbc685a04500",
   "metadata": {},
   "outputs": [],
   "source": [
    "if __name__ == '__main__':\n",
    "    N = int(input())\n",
    "    \n",
    "    lst = list()\n",
    "    n1 = 0\n",
    "    n2 = 0\n",
    "    for i in range(N):\n",
    "        s = list(input().split())\n",
    "        if s[0] == \"insert\":\n",
    "            lst.insert(int(s[1]),int(s[2]))\n",
    "        elif s[0] == \"print\":\n",
    "            print(lst)\n",
    "        elif s[0] == \"remove\":\n",
    "            lst.remove(int(s[1]))\n",
    "        elif s[0] == \"append\":\n",
    "            lst.append(int(s[1]))\n",
    "        elif s[0] == \"sort\":\n",
    "            lst.sort()\n",
    "        elif s[0] == \"reverse\":\n",
    "            lst.reverse()\n",
    "        else:\n",
    "            lst.pop()"
   ]
  },
  {
   "cell_type": "markdown",
   "id": "7e755283-6a7a-42e0-bafc-e42e6a755561",
   "metadata": {},
   "source": [
    "Problem 4\n",
    "Create a dictionary representing a library catalogue. Each book should have a title, author, and publication year.\n"
   ]
  },
  {
   "cell_type": "code",
   "execution_count": null,
   "id": "156cb7a9-3229-4ed3-a1e2-5eceb6459286",
   "metadata": {},
   "outputs": [],
   "source": [
    "library = {\n",
    "    \"The Iliad\": {\n",
    "        \"author\": \"Homer\",\n",
    "        \"year\": 1998\n",
    "    },\n",
    "    \"Harry Potter and the Goblet of Fire\": {\n",
    "        \"author\": \"J.K. Rowling\",\n",
    "        \"year\": 2000\n",
    "    },\n",
    "    \"Sapiens: A Brief History of Humankind\": {\n",
    "        \"author\": \"Yuval Noah Harari\",\n",
    "        \"year\": 2015\n",
    "    }\n",
    "}"
   ]
  },
  {
   "cell_type": "markdown",
   "id": "4478debe-ec63-493c-bd02-d627be513062",
   "metadata": {},
   "source": [
    "Problem 5\n",
    "Create a program that reads a text file, counts the occurrences of each word, and prints the results.\n"
   ]
  },
  {
   "cell_type": "code",
   "execution_count": 8,
   "id": "7f41d947-9abf-45a4-b2d0-510266a4877d",
   "metadata": {},
   "outputs": [
    {
     "name": "stdout",
     "output_type": "stream",
     "text": [
      "{'Plainview:': 8, \"I'm\": 7, 'a': 5, 'sinner': 5, 'Eli:': 8, 'Say': 1, 'it': 1, 'louder': 1, ',': 4, 'Iâ€™m': 2, 'Louder': 1, 'Daniel.': 1, 'sorry,': 1, 'Lord': 2, 'sorry': 1, 'I': 7, 'want': 2, 'the': 2, 'blood': 2, 'You': 1, 'have': 2, 'abandoned': 3, 'your': 1, 'child': 3, 'Iâ€™ve': 1, 'my': 2, 'will': 2, 'never': 2, 'backslide': 2, 'was': 2, 'lost': 2, 'but': 2, 'now': 2, 'found': 2}\n"
     ]
    }
   ],
   "source": [
    "with open(\"simple_text.txt\",\"r\") as file:\n",
    "    text = file.read().split()\n",
    "wrd_cnt = {}\n",
    "for word in text:\n",
    "    if word not in wrd_cnt:\n",
    "        wrd_cnt[word] = 0\n",
    "    wrd_cnt[word] += 1\n",
    "\n",
    "print(wrd_cnt)\n"
   ]
  },
  {
   "cell_type": "markdown",
   "id": "18981bb5-20af-4e30-a525-0e96c6255ce1",
   "metadata": {},
   "source": [
    "Problem 6\n",
    "Generate a random password of 8 characters, including a mix of uppercase letters, lowercase letters, and numbers\n"
   ]
  },
  {
   "cell_type": "code",
   "execution_count": 18,
   "id": "c7672d5c-3ed6-458a-a3ca-991435cb6be5",
   "metadata": {},
   "outputs": [
    {
     "name": "stdout",
     "output_type": "stream",
     "text": [
      "gJLGzLFk\n"
     ]
    }
   ],
   "source": [
    "import string\n",
    "import random\n",
    "lst = [x for x in range(10)]\n",
    "lst.extend(list(string.ascii_lowercase))\n",
    "lst.extend(list(string.ascii_uppercase))\n",
    "\n",
    "st = ''\n",
    "for i in range(8):\n",
    "    st += str(random.choice(lst))\n",
    "print(st)\n"
   ]
  },
  {
   "cell_type": "markdown",
   "id": "409d9081",
   "metadata": {},
   "source": [
    "Problem 7\n",
    "Write a function that takes two sets as input and returns a new set containing the common elements.\n"
   ]
  },
  {
   "cell_type": "code",
   "execution_count": 2,
   "id": "b614ad46",
   "metadata": {},
   "outputs": [
    {
     "name": "stdout",
     "output_type": "stream",
     "text": [
      " 1 2 3 4 5 6\n",
      " 3 4 5\n"
     ]
    },
    {
     "name": "stdout",
     "output_type": "stream",
     "text": [
      "{'3', '5', '4'}\n"
     ]
    }
   ],
   "source": [
    "s1 = set(input().split())\n",
    "s2 = set(input().split())\n",
    "print(s1.intersection(s2))"
   ]
  },
  {
   "cell_type": "markdown",
   "id": "94455be1",
   "metadata": {},
   "source": [
    "Problem 8\n",
    "Implement a guessing number game where the computer generates a random number between 1 and 100, and the user must guess the number,\n",
    "the user has 5 tries and the game can tell if the number is lower or higher .\n"
   ]
  },
  {
   "cell_type": "code",
   "execution_count": 8,
   "id": "91e9e78b",
   "metadata": {},
   "outputs": [
    {
     "name": "stdout",
     "output_type": "stream",
     "text": [
      "Hello to guissing number game (You only have 5 tries) <Have Fun!!! :) >\n"
     ]
    },
    {
     "name": "stdin",
     "output_type": "stream",
     "text": [
      "Enter a number:  10\n"
     ]
    },
    {
     "name": "stdout",
     "output_type": "stream",
     "text": [
      "Higher\n"
     ]
    },
    {
     "name": "stdin",
     "output_type": "stream",
     "text": [
      "Enter a number:  15\n"
     ]
    },
    {
     "name": "stdout",
     "output_type": "stream",
     "text": [
      "Higher\n"
     ]
    },
    {
     "name": "stdin",
     "output_type": "stream",
     "text": [
      "Enter a number:  30\n"
     ]
    },
    {
     "name": "stdout",
     "output_type": "stream",
     "text": [
      "Higher\n"
     ]
    },
    {
     "name": "stdin",
     "output_type": "stream",
     "text": [
      "Enter a number:  90\n"
     ]
    },
    {
     "name": "stdout",
     "output_type": "stream",
     "text": [
      "Higher\n"
     ]
    },
    {
     "name": "stdin",
     "output_type": "stream",
     "text": [
      "Enter a number:  99\n"
     ]
    },
    {
     "name": "stdout",
     "output_type": "stream",
     "text": [
      "Lower\n",
      "You spent 5 times \"You lost :( \"\n"
     ]
    }
   ],
   "source": [
    "import random\n",
    "r = random.randint(1,100)\n",
    "\n",
    "print(\"Hello to guissing number game (You only have 5 tries) <Have Fun!!! :) >\")\n",
    "\n",
    "state = True\n",
    "for i in range(5):\n",
    "    s = input(\"Enter a number: \")\n",
    "    while(not s.isdigit()):\n",
    "        s = input(\"Please enter a number: \")\n",
    "    s = int(s)\n",
    "    if s < r :\n",
    "        print(\"Higher\")\n",
    "    elif s > r :\n",
    "        print(\"Lower\")\n",
    "    else:\n",
    "        print(\"You got it !!\")\n",
    "        state = False\n",
    "        break\n",
    "if state:\n",
    "    print('You spent 5 times \"You lost :( \"')\n"
   ]
  },
  {
   "cell_type": "code",
   "execution_count": null,
   "id": "ff1c8fb5-d1fc-4bac-aec6-4661bdbb7ae6",
   "metadata": {},
   "outputs": [],
   "source": []
  }
 ],
 "metadata": {
  "kernelspec": {
   "display_name": "Python 3 (ipykernel)",
   "language": "python",
   "name": "python3"
  },
  "language_info": {
   "codemirror_mode": {
    "name": "ipython",
    "version": 3
   },
   "file_extension": ".py",
   "mimetype": "text/x-python",
   "name": "python",
   "nbconvert_exporter": "python",
   "pygments_lexer": "ipython3",
   "version": "3.12.7"
  }
 },
 "nbformat": 4,
 "nbformat_minor": 5
}
