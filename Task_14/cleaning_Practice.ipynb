{
 "cells": [
  {
   "cell_type": "code",
   "execution_count": 28,
   "id": "e5593514",
   "metadata": {},
   "outputs": [
    {
     "name": "stdout",
     "output_type": "stream",
     "text": [
      "    user_id       Name Last_name  age           Phone                Email  \\\n",
      "0       234        Tom     Smith   23    555/123/4567      smith@email.com   \n",
      "1       235     Alex--   johnson   32    333-234-5678  johnson@hotmail.com   \n",
      "2       236   ..Thomas     brown   45    444_456_7890      brown@email.com   \n",
      "3       237       John     Davis   22    111-222-3333       davis@mail.com   \n",
      "4       237       John     Davis   22    111-222-3333       davis@mail.com   \n",
      "5       238      Paul/      None   50            None       John@gmail.com   \n",
      "6       239      Emma9    wilson   34    333/987/4567      wilson@mail.com   \n",
      "7       240        Joy  Thompson   47     222/345_987   thompson@email.com   \n",
      "8       241  Samantha_       Lee   28  (777) 987-6543        lee@email.com   \n",
      "9       242      Emily   Johnson   19    777-888-9999    emily@hotmail.com   \n",
      "10      242      Emily   Johnson   19    777-888-9999    emily@hotmail.com   \n",
      "\n",
      "   Not_Useful_column  \n",
      "0               None  \n",
      "1               None  \n",
      "2               None  \n",
      "3               None  \n",
      "4               None  \n",
      "5               None  \n",
      "6               None  \n",
      "7               None  \n",
      "8               None  \n",
      "9               None  \n",
      "10              None  \n"
     ]
    }
   ],
   "source": [
    "#Run this cell (Do not make any changes)\n",
    "import pandas as pd\n",
    "df_users = pd.DataFrame({\n",
    "    \"user_id\": [234, 235, 236, 237, 237, 238, 239, 240, 241, 242, 242],\n",
    "    \"Name\": [\"Tom\", \"Alex--\", \"..Thomas\", \"John\", \"John\", \"Paul/\", \"Emma9\", \"Joy\", \"Samantha_\", \"Emily\", \"Emily\"],\n",
    "    \"Last_name\": [\"Smith\", \"johnson\", \"brown\", \"Davis\", \"Davis\", \"None\", \"wilson\", \"Thompson\", \"Lee\", \"Johnson\", \"Johnson\"],\n",
    "    \"age\": [23, 32, 45, 22, 22, 50, 34, 47, 28, 19, 19],\n",
    "    \"Phone\": [\"555/123/4567\", \"333-234-5678\", \"444_456_7890\", \"111-222-3333\", \"111-222-3333\", None, \"333/987/4567\", \"222/345_987\", \"(777) 987-6543\", \"777-888-9999\", \"777-888-9999\"],\n",
    "    \"Email\": [\"smith@email.com\", \"johnson@hotmail.com\", \"brown@email.com\", \"davis@mail.com\", \"davis@mail.com\", \"John@gmail.com\", \"wilson@mail.com\", \"thompson@email.com\", \"lee@email.com\", \"emily@hotmail.com\", \"emily@hotmail.com\"],\n",
    "    \"Not_Useful_column\": [None, None, None, None, None, None, None, None, None, None, None]\n",
    "})\n",
    "\n",
    "print(df_users)"
   ]
  },
  {
   "cell_type": "code",
   "execution_count": 29,
   "id": "dc2a2d71",
   "metadata": {},
   "outputs": [],
   "source": [
    "#Delete duplicated rows\n",
    "df_users = df_users.drop_duplicates()"
   ]
  },
  {
   "cell_type": "code",
   "execution_count": 30,
   "id": "70afc7c7",
   "metadata": {},
   "outputs": [],
   "source": [
    "#Delete unnecessary columns\n",
    "df_users = df_users.drop(columns = 'Not_Useful_column')"
   ]
  },
  {
   "cell_type": "code",
   "execution_count": 31,
   "id": "828de2d4",
   "metadata": {},
   "outputs": [],
   "source": [
    "#Correct syntax errors in columns\n",
    "df_users['Name'] = df_users['Name'].apply(lambda x : ''.join([c for c in x if c.isalpha()]))\n",
    "df_users['Last_name'] = df_users['Last_name'].str.capitalize()"
   ]
  },
  {
   "cell_type": "code",
   "execution_count": 32,
   "id": "af7e1ae4-a789-4215-b42c-725df88da55f",
   "metadata": {},
   "outputs": [],
   "source": [
    "#Delete rows with None values\n",
    "df_users = df_users.dropna()"
   ]
  },
  {
   "cell_type": "code",
   "execution_count": 33,
   "id": "aa944dce",
   "metadata": {},
   "outputs": [],
   "source": [
    "#Set a unique pattern for a column\n",
    "df_users['Phone'] = df_users['Phone'].apply(lambda x : ''.join([c for c in x if c.isdigit()]))\n",
    "df_users['Phone'] = df_users['Phone'].apply(lambda x : f'{x[:3]}-{x[3:6]}-{x[6:]}')"
   ]
  },
  {
   "cell_type": "code",
   "execution_count": 34,
   "id": "e24e86ae-4db7-4253-8867-bbde499cd2dd",
   "metadata": {},
   "outputs": [
    {
     "data": {
      "text/html": [
       "<div>\n",
       "<style scoped>\n",
       "    .dataframe tbody tr th:only-of-type {\n",
       "        vertical-align: middle;\n",
       "    }\n",
       "\n",
       "    .dataframe tbody tr th {\n",
       "        vertical-align: top;\n",
       "    }\n",
       "\n",
       "    .dataframe thead th {\n",
       "        text-align: right;\n",
       "    }\n",
       "</style>\n",
       "<table border=\"1\" class=\"dataframe\">\n",
       "  <thead>\n",
       "    <tr style=\"text-align: right;\">\n",
       "      <th></th>\n",
       "      <th>user_id</th>\n",
       "      <th>Name</th>\n",
       "      <th>Last_name</th>\n",
       "      <th>age</th>\n",
       "      <th>Phone</th>\n",
       "      <th>Email</th>\n",
       "    </tr>\n",
       "  </thead>\n",
       "  <tbody>\n",
       "    <tr>\n",
       "      <th>0</th>\n",
       "      <td>234</td>\n",
       "      <td>Tom</td>\n",
       "      <td>Smith</td>\n",
       "      <td>23</td>\n",
       "      <td>555-123-4567</td>\n",
       "      <td>smith@email.com</td>\n",
       "    </tr>\n",
       "    <tr>\n",
       "      <th>1</th>\n",
       "      <td>235</td>\n",
       "      <td>Alex</td>\n",
       "      <td>Johnson</td>\n",
       "      <td>32</td>\n",
       "      <td>333-234-5678</td>\n",
       "      <td>johnson@hotmail.com</td>\n",
       "    </tr>\n",
       "    <tr>\n",
       "      <th>2</th>\n",
       "      <td>236</td>\n",
       "      <td>Thomas</td>\n",
       "      <td>Brown</td>\n",
       "      <td>45</td>\n",
       "      <td>444-456-7890</td>\n",
       "      <td>brown@email.com</td>\n",
       "    </tr>\n",
       "    <tr>\n",
       "      <th>3</th>\n",
       "      <td>237</td>\n",
       "      <td>John</td>\n",
       "      <td>Davis</td>\n",
       "      <td>22</td>\n",
       "      <td>111-222-3333</td>\n",
       "      <td>davis@mail.com</td>\n",
       "    </tr>\n",
       "    <tr>\n",
       "      <th>6</th>\n",
       "      <td>239</td>\n",
       "      <td>Emma</td>\n",
       "      <td>Wilson</td>\n",
       "      <td>34</td>\n",
       "      <td>333-987-4567</td>\n",
       "      <td>wilson@mail.com</td>\n",
       "    </tr>\n",
       "    <tr>\n",
       "      <th>7</th>\n",
       "      <td>240</td>\n",
       "      <td>Joy</td>\n",
       "      <td>Thompson</td>\n",
       "      <td>47</td>\n",
       "      <td>222-345-987</td>\n",
       "      <td>thompson@email.com</td>\n",
       "    </tr>\n",
       "    <tr>\n",
       "      <th>8</th>\n",
       "      <td>241</td>\n",
       "      <td>Samantha</td>\n",
       "      <td>Lee</td>\n",
       "      <td>28</td>\n",
       "      <td>777-987-6543</td>\n",
       "      <td>lee@email.com</td>\n",
       "    </tr>\n",
       "    <tr>\n",
       "      <th>9</th>\n",
       "      <td>242</td>\n",
       "      <td>Emily</td>\n",
       "      <td>Johnson</td>\n",
       "      <td>19</td>\n",
       "      <td>777-888-9999</td>\n",
       "      <td>emily@hotmail.com</td>\n",
       "    </tr>\n",
       "  </tbody>\n",
       "</table>\n",
       "</div>"
      ],
      "text/plain": [
       "   user_id      Name Last_name  age         Phone                Email\n",
       "0      234       Tom     Smith   23  555-123-4567      smith@email.com\n",
       "1      235      Alex   Johnson   32  333-234-5678  johnson@hotmail.com\n",
       "2      236    Thomas     Brown   45  444-456-7890      brown@email.com\n",
       "3      237      John     Davis   22  111-222-3333       davis@mail.com\n",
       "6      239      Emma    Wilson   34  333-987-4567      wilson@mail.com\n",
       "7      240       Joy  Thompson   47   222-345-987   thompson@email.com\n",
       "8      241  Samantha       Lee   28  777-987-6543        lee@email.com\n",
       "9      242     Emily   Johnson   19  777-888-9999    emily@hotmail.com"
      ]
     },
     "execution_count": 34,
     "metadata": {},
     "output_type": "execute_result"
    }
   ],
   "source": [
    "df_users"
   ]
  },
  {
   "cell_type": "code",
   "execution_count": 35,
   "id": "3b7f388d",
   "metadata": {},
   "outputs": [],
   "source": [
    "#Conclusion\n",
    "#Data cleaning is a very important step before starting to work with a dataset in data science or machine learning,\n",
    "#it ensures that the data has no syntax errors, None or NaN values, duplicated rows, unnecessary columns, and many more things.\n",
    "#A dataset can be clean in many ways not just the ones seen in this article"
   ]
  }
 ],
 "metadata": {
  "kernelspec": {
   "display_name": "Python 3 (ipykernel)",
   "language": "python",
   "name": "python3"
  },
  "language_info": {
   "codemirror_mode": {
    "name": "ipython",
    "version": 3
   },
   "file_extension": ".py",
   "mimetype": "text/x-python",
   "name": "python",
   "nbconvert_exporter": "python",
   "pygments_lexer": "ipython3",
   "version": "3.12.7"
  }
 },
 "nbformat": 4,
 "nbformat_minor": 5
}
