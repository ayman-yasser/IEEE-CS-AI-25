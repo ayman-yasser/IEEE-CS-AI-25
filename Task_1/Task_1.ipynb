{
 "cells": [
  {
   "cell_type": "markdown",
   "id": "13471b23-386b-4e32-83f4-219c3408fc9e",
   "metadata": {},
   "source": [
    "Problem 1\n",
    "      Write a program that takes numbers as input from the user, terminates when the user enters -1, and prints the sum of all the entered numbers.\n",
    "\n",
    "Ex:\n",
    "\n",
    "Input: 4 8 15 16 23 42 -1\n",
    "\n",
    "Output: Sum: 108\n"
   ]
  },
  {
   "cell_type": "code",
   "execution_count": 22,
   "id": "3df5c3f0-06e0-4bf8-af3b-03c4c79ebca2",
   "metadata": {},
   "outputs": [
    {
     "name": "stdout",
     "output_type": "stream",
     "text": [
      " 4 8 15 16 23 42 -1\n"
     ]
    },
    {
     "name": "stdout",
     "output_type": "stream",
     "text": [
      "Sum: 108\n"
     ]
    }
   ],
   "source": [
    "nums = list(input().split())\n",
    "sum = 0\n",
    "for n in nums:\n",
    "    if(n == \"-1\"):\n",
    "        break\n",
    "    sum += int(n)\n",
    "print(f\"Sum: {sum}\")"
   ]
  },
  {
   "cell_type": "markdown",
   "id": "6a3af272-8156-4e51-97a2-d4f3aacbb2f1",
   "metadata": {},
   "source": [
    "Problem 2\n",
    "Write a program that takes today’s date and prints the date of the next week.\n",
    "\n",
    "Ex:\n",
    "\n",
    "Input: \t  Day: 25 Month: 1 Year: 2025\n",
    "\n",
    "Output: Day: 1   Month: 2 Year: 2025\n"
   ]
  },
  {
   "cell_type": "code",
   "execution_count": 36,
   "id": "5827c03e-51fa-4bfc-bf0d-aa4e81c8ebbc",
   "metadata": {},
   "outputs": [
    {
     "name": "stdout",
     "output_type": "stream",
     "text": [
      " Day: 25 Month: 1 Year: 2025\n"
     ]
    },
    {
     "name": "stdout",
     "output_type": "stream",
     "text": [
      "Day: 1   Month: 2 Year: 2025\n"
     ]
    }
   ],
   "source": [
    "month_day = {1:31, 2:28, 3:31, 4:30, 5:31, 6:30, 7:31, 8:31, 9:30, 10:31, 11:30, 12:31}\n",
    "in_date = list(input().split())\n",
    "day = int(in_date[1])\n",
    "month = int(in_date[3])\n",
    "year = int(in_date[5])\n",
    "day += 7\n",
    "\n",
    "if day > month_day[month] :\n",
    "    day -= month_day[month]\n",
    "    month += 1\n",
    "    if month > 12 :\n",
    "        year += 1\n",
    "        month = 1\n",
    "print(f\"Day: {day}   Month: {month} Year: {year}\")"
   ]
  },
  {
   "cell_type": "markdown",
   "id": "157cbffd-9ba7-4c89-87e3-60504313a94d",
   "metadata": {},
   "source": [
    "Problem 3\n",
    "Write a Python program that takes a positive integer as input and prints the sum of its digits.\n",
    "\n",
    "Ex:\n",
    "\n",
    "Input: 123 \n",
    "\n",
    "Output: The sum of digits is 6 (1 + 2 + 3).\n"
   ]
  },
  {
   "cell_type": "code",
   "execution_count": 40,
   "id": "6839e1a6-8147-414f-9afb-6aab3fc7cd04",
   "metadata": {},
   "outputs": [
    {
     "name": "stdout",
     "output_type": "stream",
     "text": [
      " 123\n"
     ]
    },
    {
     "name": "stdout",
     "output_type": "stream",
     "text": [
      "The sum of digits is 6 (1 + 2 + 3).\n"
     ]
    }
   ],
   "source": [
    "nums = input()\n",
    "sum = 0\n",
    "for i in nums:\n",
    "    sum += int(i)\n",
    "print(f\"The sum of digits is {sum} ({' + '.join(nums)}).\")"
   ]
  },
  {
   "cell_type": "markdown",
   "id": "5e8cb8e3-dc40-4bbb-bdd7-0d9c011a3e6a",
   "metadata": {},
   "source": [
    "Problem 4\n",
    "Write a Python program that takes a sentence as input and prints the sentence with each word reversed.\n",
    "\n",
    "Ex:\n",
    "\n",
    "Input: \"Hello World\"\n",
    "\n",
    "Output: \"olleH dlroW\""
   ]
  },
  {
   "cell_type": "code",
   "execution_count": 44,
   "id": "9422add3-9e24-4fe3-9f97-93453a37b952",
   "metadata": {},
   "outputs": [
    {
     "name": "stdout",
     "output_type": "stream",
     "text": [
      " Hello World\n"
     ]
    },
    {
     "name": "stdout",
     "output_type": "stream",
     "text": [
      "olleH dlroW "
     ]
    }
   ],
   "source": [
    "sen = list(input().split())\n",
    "for i in sen:\n",
    "    i = i[::-1]\n",
    "    print(i,end = \" \")"
   ]
  },
  {
   "cell_type": "markdown",
   "id": "9bdd3e2a-d23d-4413-81e5-f80366e3a6fa",
   "metadata": {},
   "source": [
    "Problem 5\n",
    "Write a Python program that takes a positive integer as input and prints all odd numbers from 1 to that integer.\n",
    "\n",
    "Ex:\n",
    "\n",
    "Input: 10\n",
    "\n",
    "Output: 1 3 5 7 9\n"
   ]
  },
  {
   "cell_type": "code",
   "execution_count": 66,
   "id": "787ee0f5-ff22-4c40-9c08-4d521af47b2e",
   "metadata": {},
   "outputs": [
    {
     "name": "stdout",
     "output_type": "stream",
     "text": [
      " 10\n"
     ]
    },
    {
     "name": "stdout",
     "output_type": "stream",
     "text": [
      "1 3 5 7 9 "
     ]
    }
   ],
   "source": [
    "num = int(input())\n",
    "for i in range(1,num+1):\n",
    "    if i % 2 :\n",
    "        print(i, end = \" \")"
   ]
  },
  {
   "cell_type": "markdown",
   "id": "cbe85b2e-f755-4ab4-a4b7-f61b1b6b71ee",
   "metadata": {},
   "source": [
    "Problem 6\n",
    "     Write a Python program that takes a positive integer as input and checks whether it is a perfect number or not. A perfect number is a positive integer that is equal to the sum of its proper divisors, excluding itself.\n",
    "\n",
    "Ex:\n",
    "\n",
    "Input: 28\n",
    "\n",
    "Output: 28 is a perfect number.\n"
   ]
  },
  {
   "cell_type": "code",
   "execution_count": 70,
   "id": "7cf0a9fc-da3e-4dc3-baea-22ca5ac2f22f",
   "metadata": {},
   "outputs": [
    {
     "name": "stdout",
     "output_type": "stream",
     "text": [
      " 28\n"
     ]
    },
    {
     "name": "stdout",
     "output_type": "stream",
     "text": [
      "28 is a perfect number.\n"
     ]
    }
   ],
   "source": [
    "num = int(input())\n",
    "sum = 0\n",
    "for i in range(1,num):\n",
    "    if not num % i:\n",
    "        sum += i\n",
    "if sum == num :\n",
    "    print(f\"{num} is a perfect number.\")\n",
    "else:\n",
    "    print(f\"{num} is not a perfect number.\")"
   ]
  },
  {
   "cell_type": "markdown",
   "id": "1ca545b0-4953-41d4-9ad8-59feb5041fd6",
   "metadata": {},
   "source": [
    "Problem 7\n",
    "      Write a Python program that takes a positive integer as input and finds its prime factors.\n",
    "\n",
    "Input: 36\n",
    "\n",
    "Output: Prime Factors: 2, 3\n"
   ]
  },
  {
   "cell_type": "code",
   "execution_count": 90,
   "id": "365465eb-e477-4c64-bee4-5b7f874c37f3",
   "metadata": {},
   "outputs": [
    {
     "name": "stdout",
     "output_type": "stream",
     "text": [
      " 36\n"
     ]
    },
    {
     "name": "stdout",
     "output_type": "stream",
     "text": [
      "Prime Factors: 2, 3\n"
     ]
    }
   ],
   "source": [
    "from math import sqrt\n",
    "def prime(num):\n",
    "    if num == 2:\n",
    "        return True\n",
    "    for i in range(2, int(sqrt(num))+1):\n",
    "        if not num % i:\n",
    "            return False\n",
    "    return True\n",
    "\n",
    "num = int(input())\n",
    "lst = []\n",
    "for i in range(2, num):\n",
    "    if num % i == 0 and prime(i):\n",
    "        lst.append(str(i))\n",
    "print(f\"Prime Factors: {', '.join(lst)}\")"
   ]
  },
  {
   "cell_type": "markdown",
   "id": "8c41db4d-afb8-4b49-818e-5f329e4f9e37",
   "metadata": {},
   "source": [
    "Problem 8\n",
    "      Write a Python program that checks if a given word is a palindrome. A palindrome is a word that reads the same backward as forward.\n",
    "\n",
    "Input: \"level\"\n",
    "\n",
    "Output: \"The word 'level' is a palindrome.\"\n",
    "\n",
    "\n",
    "Input: \"python\"\n",
    "\n",
    "Output: \"The word 'python' is not a palindrome.\"\n"
   ]
  },
  {
   "cell_type": "code",
   "execution_count": 100,
   "id": "fd60d238-d9f8-4e2c-8481-b04cf59bc9bb",
   "metadata": {},
   "outputs": [
    {
     "name": "stdout",
     "output_type": "stream",
     "text": [
      " python\n"
     ]
    },
    {
     "name": "stdout",
     "output_type": "stream",
     "text": [
      "The word 'python' is not a palindrome.\n"
     ]
    }
   ],
   "source": [
    "def is_pal(strr):\n",
    "    for i in range (0, len(strr)):\n",
    "        if strr[i] != strr[len(strr)-1-i]:\n",
    "            return False\n",
    "    return True\n",
    "\n",
    "strr = input()\n",
    "print(f\"The word '{strr}' is a palindrome.\" if is_pal(strr) else f\"The word '{strr}' is not a palindrome.\")"
   ]
  }
 ],
 "metadata": {
  "kernelspec": {
   "display_name": "Python 3 (ipykernel)",
   "language": "python",
   "name": "python3"
  },
  "language_info": {
   "codemirror_mode": {
    "name": "ipython",
    "version": 3
   },
   "file_extension": ".py",
   "mimetype": "text/x-python",
   "name": "python",
   "nbconvert_exporter": "python",
   "pygments_lexer": "ipython3",
   "version": "3.12.7"
  }
 },
 "nbformat": 4,
 "nbformat_minor": 5
}
