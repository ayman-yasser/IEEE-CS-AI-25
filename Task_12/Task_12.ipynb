{
 "cells": [
  {
   "cell_type": "code",
   "execution_count": 1,
   "id": "eb8b2e20-a94e-48c5-a73e-ea292a4802aa",
   "metadata": {},
   "outputs": [],
   "source": [
    "import numpy as np"
   ]
  },
  {
   "cell_type": "markdown",
   "id": "2d8a224c-4033-431c-9043-e8054a4160ca",
   "metadata": {},
   "source": [
    "#### 1. Create a 3x3 array that contains a diagonal of nines."
   ]
  },
  {
   "cell_type": "code",
   "execution_count": 18,
   "id": "da594fc4-3a5b-4384-a2e8-6152cbaf3b83",
   "metadata": {},
   "outputs": [
    {
     "data": {
      "text/plain": [
       "array([[9., 0., 0.],\n",
       "       [0., 9., 0.],\n",
       "       [0., 0., 9.]])"
      ]
     },
     "execution_count": 18,
     "metadata": {},
     "output_type": "execute_result"
    }
   ],
   "source": [
    "np.identity(3)*9"
   ]
  },
  {
   "cell_type": "markdown",
   "id": "b13e404f-62b2-4f45-9608-543bee64ac2a",
   "metadata": {},
   "source": [
    "#### 2. Create a 4 x 4 ndarray that only contains consecutive even numbers from 2 to 32 (inclusive) and use Boolean indexing to pick out the values that are within 1/2 standard deviations of the mean."
   ]
  },
  {
   "cell_type": "code",
   "execution_count": 27,
   "id": "67497de6-7a5b-436c-aaa5-393d8c502b0e",
   "metadata": {},
   "outputs": [
    {
     "name": "stdout",
     "output_type": "stream",
     "text": [
      "[[ 2  4  6  8]\n",
      " [10 12 14 16]\n",
      " [18 20 22 24]\n",
      " [26 28 30 32]]\n",
      "\n",
      "\n",
      "[14 16 18 20]\n"
     ]
    }
   ],
   "source": [
    "arr = np.array(range(2,33,2)).reshape(4,4)\n",
    "print(arr)\n",
    "l = np.mean(arr) - 0.5 * np.std(arr)\n",
    "r = np.mean(arr) + 0.5 * np.std(arr)\n",
    "print(\"\\n\")\n",
    "\n",
    "print(arr[(arr >= l) & (arr <= r)])"
   ]
  },
  {
   "cell_type": "markdown",
   "id": "453e2267-f176-472a-9a84-7f13494e2e30",
   "metadata": {},
   "source": [
    "#### 3. Create a 9x9 array that contains only zero of type int.\n"
   ]
  },
  {
   "cell_type": "code",
   "execution_count": 29,
   "id": "1284e199-5a89-44be-9bfc-662602b8fbbb",
   "metadata": {},
   "outputs": [
    {
     "data": {
      "text/plain": [
       "array([[0, 0, 0, 0, 0, 0, 0, 0, 0],\n",
       "       [0, 0, 0, 0, 0, 0, 0, 0, 0],\n",
       "       [0, 0, 0, 0, 0, 0, 0, 0, 0],\n",
       "       [0, 0, 0, 0, 0, 0, 0, 0, 0],\n",
       "       [0, 0, 0, 0, 0, 0, 0, 0, 0],\n",
       "       [0, 0, 0, 0, 0, 0, 0, 0, 0],\n",
       "       [0, 0, 0, 0, 0, 0, 0, 0, 0],\n",
       "       [0, 0, 0, 0, 0, 0, 0, 0, 0],\n",
       "       [0, 0, 0, 0, 0, 0, 0, 0, 0]])"
      ]
     },
     "execution_count": 29,
     "metadata": {},
     "output_type": "execute_result"
    }
   ],
   "source": [
    "np.zeros((9,9),int)"
   ]
  },
  {
   "cell_type": "markdown",
   "id": "3585fb73-9436-4787-ba19-e5416b196788",
   "metadata": {},
   "source": [
    "#### 4. Ask the user for a number n. Then, use broadcasting to create a n x n ndarray that has its first column full of ones, its second column full of twos, its third column full of threes, etc…"
   ]
  },
  {
   "cell_type": "code",
   "execution_count": 33,
   "id": "faf5e658-2c53-4b8f-bb47-7c74d99bd8fe",
   "metadata": {},
   "outputs": [
    {
     "name": "stdin",
     "output_type": "stream",
     "text": [
      "Enter a number :  5\n"
     ]
    },
    {
     "name": "stdout",
     "output_type": "stream",
     "text": [
      "[[1. 2. 3. 4. 5.]\n",
      " [1. 2. 3. 4. 5.]\n",
      " [1. 2. 3. 4. 5.]\n",
      " [1. 2. 3. 4. 5.]\n",
      " [1. 2. 3. 4. 5.]]\n"
     ]
    }
   ],
   "source": [
    "n = int(input(\"Enter a number : \"))\n",
    "print(np.ones((n,n)) * np.arange(1,n+1))"
   ]
  },
  {
   "cell_type": "markdown",
   "id": "59178c2c-e61b-4404-986b-901d0f928112",
   "metadata": {},
   "source": [
    "## [5]"
   ]
  },
  {
   "cell_type": "code",
   "execution_count": 37,
   "id": "8d9293d2-4e98-44ff-ab8b-636bf6251361",
   "metadata": {},
   "outputs": [
    {
     "name": "stdin",
     "output_type": "stream",
     "text": [
      " 4\n",
      " 4 1 2 10\n"
     ]
    },
    {
     "name": "stdout",
     "output_type": "stream",
     "text": [
      "12 5\n"
     ]
    }
   ],
   "source": [
    "n = int(input())\n",
    "cards = np.array(list(map(int, input().split())))\n",
    "\n",
    "s, d, l, r, t = 0, 0, 0, n - 1, False\n",
    "\n",
    "while l <= r:\n",
    "    if cards[l] >= cards[r]:\n",
    "        card = cards[l]\n",
    "        l += 1\n",
    "    else:\n",
    "        card = cards[r]\n",
    "        r -= 1\n",
    "    if not t :\n",
    "        s += card\n",
    "    else:\n",
    "        d += card\n",
    "    t = not t\n",
    "    \n",
    "print (s, d)"
   ]
  },
  {
   "cell_type": "markdown",
   "id": "97b06fde-25a0-4ada-a833-df1705239a24",
   "metadata": {},
   "source": [
    "## [6]"
   ]
  },
  {
   "cell_type": "code",
   "execution_count": 57,
   "id": "ecd1fe6b-517d-48e4-8d74-98e69d29c788",
   "metadata": {},
   "outputs": [
    {
     "name": "stdin",
     "output_type": "stream",
     "text": [
      " 3 2\n",
      " W W\n",
      " W W\n",
      " B B\n"
     ]
    },
    {
     "name": "stdout",
     "output_type": "stream",
     "text": [
      "#Black&White\n"
     ]
    }
   ],
   "source": [
    "import numpy as np\n",
    "n, m = map(int, input().split())\n",
    "p = np.array([input().strip().split() for row in range(n)])\n",
    "colors = ['C', 'M', 'Y']\n",
    "if np.isin(p, colors).any():\n",
    "    print('#Color')\n",
    "else:\n",
    "    print('#Black&White')"
   ]
  }
 ],
 "metadata": {
  "kernelspec": {
   "display_name": "Python 3 (ipykernel)",
   "language": "python",
   "name": "python3"
  },
  "language_info": {
   "codemirror_mode": {
    "name": "ipython",
    "version": 3
   },
   "file_extension": ".py",
   "mimetype": "text/x-python",
   "name": "python",
   "nbconvert_exporter": "python",
   "pygments_lexer": "ipython3",
   "version": "3.12.7"
  }
 },
 "nbformat": 4,
 "nbformat_minor": 5
}
