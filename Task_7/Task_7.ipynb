{
 "cells": [
  {
   "cell_type": "markdown",
   "id": "9c862fb6-dcb6-47b1-b6d0-d93dd82fcf0e",
   "metadata": {},
   "source": [
    "Write a Python function that takes in a list of values and returns the probability distribution of those values. Assume the values are discrete.\n",
    "\n",
    "Input:\n",
    "data = [1, 2, 3, 4, 5, 1, 2, 3, 4, 1] \n",
    "\n",
    "Output:\n",
    "{1: 0.3, 2: 0.2, 3: 0.2, 4: 0.2, 5: 0.1}\n"
   ]
  },
  {
   "cell_type": "code",
   "execution_count": 7,
   "id": "a3d00868-0451-4ac5-8e62-74c3b0bf67e5",
   "metadata": {},
   "outputs": [
    {
     "name": "stdin",
     "output_type": "stream",
     "text": [
      " 1 2 3 4 5 1 2 3 4 1\n"
     ]
    },
    {
     "name": "stdout",
     "output_type": "stream",
     "text": [
      "{1: 0.3, 2: 0.2, 3: 0.2, 4: 0.2, 5: 0.1}\n"
     ]
    }
   ],
   "source": [
    "data = list(map(int, input().split()))\n",
    "total = len(data)\n",
    "uni_val = set(data)\n",
    "prob = {}\n",
    "\n",
    "for val in uni_val:\n",
    "    prob[val] = data.count(val) / total\n",
    "\n",
    "print(prob)"
   ]
  },
  {
   "cell_type": "markdown",
   "id": "9999b1a4-2744-4456-bdce-f545e91be785",
   "metadata": {},
   "source": [
    "Write a Python function that calculates the conditional probability of event B given event A, given two lists of events A and B.\n",
    "\n",
    "Input:\n",
    "event_a = [1, 0, 1, 0, 1]\n",
    "event_b = [1, 1, 0, 0, 1]\n",
    "\n",
    "Output:\n",
    "2/3\n"
   ]
  },
  {
   "cell_type": "code",
   "execution_count": 12,
   "id": "7919594d-2be1-43c0-b53d-c57bbe08c2ca",
   "metadata": {},
   "outputs": [
    {
     "name": "stdin",
     "output_type": "stream",
     "text": [
      " 1 0 1 0 1\n",
      " 1 1 0 0 1\n"
     ]
    },
    {
     "name": "stdout",
     "output_type": "stream",
     "text": [
      "0.6666666666666666\n"
     ]
    }
   ],
   "source": [
    "a = list(map(int, input().split()))\n",
    "b = list(map(int, input().split()))\n",
    "cnt_a = sum(a)\n",
    "cnt_a_b = sum(1 for i in range(len(a)) if a[i] and b[i])\n",
    "print( cnt_a_b / cnt_a if cnt_a > 0 else 0)"
   ]
  },
  {
   "cell_type": "markdown",
   "id": "ac4e236b-c7c9-4d9e-b604-f8ff232dd1b8",
   "metadata": {},
   "source": [
    "Write a Python function that implements Bayes' theorem to calculate the probability of event A given event B, given the prior probability of A and B, and the conditional probability of B given A.\n",
    "\n",
    "Input:\n",
    "prior_a = 0.3\n",
    "prior_b = 0.6\n",
    "conditional_b_given_a = 0.8\n",
    "\n",
    "Output:\n",
    "0.4\n"
   ]
  },
  {
   "cell_type": "code",
   "execution_count": 19,
   "id": "1bfd5199-7069-4b71-ac32-7b4e4bfb4f53",
   "metadata": {},
   "outputs": [
    {
     "name": "stdin",
     "output_type": "stream",
     "text": [
      "prior_a  0.3\n",
      "prior_b  0.6\n",
      "conditional_b_given_a  0.8\n"
     ]
    },
    {
     "name": "stdout",
     "output_type": "stream",
     "text": [
      "0.4\n"
     ]
    }
   ],
   "source": [
    "prior_a = float(input(\"prior_a \"))\n",
    "prior_b = float(input(\"prior_b \"))\n",
    "cond_b_a = float(input(\"conditional_b_given_a \"))\n",
    "print((cond_b_a * prior_a) / prior_b if prior_b > 0 else 0)"
   ]
  },
  {
   "cell_type": "code",
   "execution_count": null,
   "id": "3dacd583-31fa-491a-af64-8dd018ab9742",
   "metadata": {},
   "outputs": [],
   "source": []
  }
 ],
 "metadata": {
  "kernelspec": {
   "display_name": "Python 3 (ipykernel)",
   "language": "python",
   "name": "python3"
  },
  "language_info": {
   "codemirror_mode": {
    "name": "ipython",
    "version": 3
   },
   "file_extension": ".py",
   "mimetype": "text/x-python",
   "name": "python",
   "nbconvert_exporter": "python",
   "pygments_lexer": "ipython3",
   "version": "3.12.7"
  }
 },
 "nbformat": 4,
 "nbformat_minor": 5
}
